{
 "cells": [
  {
   "cell_type": "code",
   "execution_count": 1,
   "id": "248ed3d1-c51c-4661-9f71-91062f141ff6",
   "metadata": {},
   "outputs": [],
   "source": [
    "# ANS 1:\n",
    "# 1.Precision: Precision measures the proportion of correctly predicted positive instances out of all instances predicted as positive.\n",
    "#   It is calculated as TP / (TP + FP)\n",
    "#   we use precesion when False Positive is important\n",
    "# 2.Recall: Recall measures the proportion of correctly predicted positive instances out of all actual positive instances. \n",
    "#          It is calculated as TP / (TP + FN).\n",
    "#   we use Recall when  false negtive important"
   ]
  },
  {
   "cell_type": "code",
   "execution_count": 2,
   "id": "7935461a-ef29-471f-9677-2ea55ef923ed",
   "metadata": {},
   "outputs": [],
   "source": [
    "# ANS 2:\n",
    "# F1 Score: The F1 score is the harmonic mean of precision and recall.\n",
    "# It provides a single metric that balances both precision and recall. \n",
    "# It is calculated as 2 * (Precision * Recall) / (Precision + Recall).\n",
    "\n",
    "# It is different from recall and precision\n",
    "# It does not uses the terms of confusion matrix\n",
    "# he F1 score gives equal weight to precision and recall.\n",
    "# This is useful in situations where there is an imbalance between the number of positive and negative instances in the dataset. "
   ]
  },
  {
   "cell_type": "code",
   "execution_count": 3,
   "id": "5c44b171-6c94-47b2-80af-922a9d32144b",
   "metadata": {},
   "outputs": [],
   "source": [
    "# ANS 3 :\n",
    "# # \"ROC CURVE\"\n",
    "# The Receiver Operating Characteristic (ROC) curve is a graphical representation of the performance of a binary classification model, \n",
    "# such as logistic regression, at different classification thresholds. \n",
    "# It plots the true positive rate (sensitivity) against the false positive rate (1 - specificity) as the classification threshold varies.\n",
    "\n",
    "# # It evaluates the performance of logistic regression\n",
    "# 1.Prediction and Threshold: For each example in the test dataset, the logistic regression model predicts \n",
    "#   the probability of belonging to the positive class. \n",
    "#   By varying the classification threshold (usually between 0 and 1), \n",
    "#   you can control the balance between true positives and false positives.\n",
    "# 2.Calculation of True Positive Rate and False Positive Rate: With different classification thresholds, \n",
    "#   the true positive rate (TPR) and false positive rate (FPR) are calculated\n",
    "\n",
    "# # AUC stands for Area Under the ROC Curve.\n",
    "# The AUC represents the area under the ROC curve, which summarizes the overall performance of a classification model \n",
    "# across all possible classification thresholds. It ranges from 0 to 1, where an AUC of 1 indicates a perfect classifier,\n",
    "# while an AUC of 0.5 suggests a classifier that performs no better than random chance."
   ]
  },
  {
   "cell_type": "code",
   "execution_count": 5,
   "id": "6055f039-6f6f-4451-9903-e005beacd7b9",
   "metadata": {},
   "outputs": [],
   "source": [
    "# ANS 4:\n",
    "# There are some specific goals\n",
    "# 1.Nature of the problem: Understand the problem and its requirements.\n",
    "# 2.Domain-specific considerations: Consider any domain-specific requirements or constraints that may influence the choice of metric. \n",
    "# 3.Business objectives: Align the choice of metric with the ultimate business objectives.\n",
    "\n",
    "# Commonly used metrics for classification models include accuracy, precision, recall, F1 score, ROC AUC, \n",
    "\n",
    "\n",
    "# Multiclass Regression\n",
    "# Multiclass classification refers to a classification problem with more than two distinct classes or categories. \n",
    "# In this type of classification, the task is to assign each input instance to one of the multiple classes.\n",
    "\n",
    "# Binary class classification\n",
    "# Binary classification, on the other hand, deals with classifying instances into one of two classes or categories. \n",
    "# It is a simpler form of classification where the goal is to distinguish between two possible outcomes."
   ]
  },
  {
   "cell_type": "code",
   "execution_count": 6,
   "id": "55a4ca3c-615d-4d9a-bea5-0d324d3456c1",
   "metadata": {},
   "outputs": [],
   "source": [
    "# ANS 5 :\n",
    "# we can perform muticlass classification in logistic regression by techniques\n",
    "# 1.One-vs-Rest (OvR) Approach:\n",
    "# In the one-vs-rest approach, we create a separate logistic regression model for each class. \n",
    "# For each model, we treat that class as the positive class and combine all other classes into a single negative class. \n",
    "# During training, we fit these separate models to the training data, resulting in multiple binary classifiers.\n",
    "\n",
    "# 2.multinomial \n",
    "# multinomial extends logistic regression to handle multiple classes directly.\n",
    "# Instead of creating separate models, multinomial defines a single model with multiple output nodes, \n",
    "# each representing one class. It uses the softmax function to compute the probabilities for each class.\n",
    "# In that which class gets highest probablity that class will be selected"
   ]
  },
  {
   "cell_type": "code",
   "execution_count": 7,
   "id": "16887904-6b86-48c0-8b6f-ab42e0fa6dff",
   "metadata": {},
   "outputs": [],
   "source": [
    "# ANS 6:\n",
    "# 1.Define the Problem:\n",
    "# Clearly define the problem you want to solve and the goals of your multiclass classification project\n",
    "# 2.Data Preprocessing:\n",
    "# Preprocess and clean the data to ensure it's in a suitable format for training the model.\n",
    "# 3.import package:\n",
    "# import the appropiate package and give appropiate parameters\n",
    "# 4.Split Data into Training and Testing Sets:\n",
    "# Split the labeled dataset into two parts: a training set and a testing set.\n",
    "# 5.Model Training:\n",
    "# Train the selected model on the labeled training dataset.\n",
    "# 6.Model Fine-tuning:\n",
    "# Iteratively refine the model by adjusting its hyperparameters or exploring different architectures, depending on the performance evaluation\n",
    "# 7.Model Deployment:\n",
    "# Once satisfied with the model's performance, deploy it for use in real-world scenarios"
   ]
  },
  {
   "cell_type": "code",
   "execution_count": 8,
   "id": "6309fc41-60f7-41d7-9442-9c73ed3aea8a",
   "metadata": {},
   "outputs": [],
   "source": [
    "# ANS 7 :\n",
    "# Model Deployment\n",
    "# Model deployment refers to the process of making a trained machine learning model available for use in a production environment. \n",
    "# It involves integrating the model into a system or application where it can receive inputs, make predictions,\n",
    "# and provide outputs to end-users or other systems.\n",
    "\n",
    "# Usecases\n",
    "# 1.Real-world Application: Model deployment allows the model to be used in real-world scenarios to provide predictions \n",
    "#   or automate decision-making.\n",
    "# 2.Accessibility and Scalability: Deploying a model makes it accessible to a wider audience, including end-users or other software systems.\n"
   ]
  },
  {
   "cell_type": "code",
   "execution_count": 9,
   "id": "6d189c1a-78ce-4b38-af76-09206f28a00a",
   "metadata": {},
   "outputs": [],
   "source": [
    "# ANS 8:\n",
    "# multi cloud platforms provides several usescases for model deployment\n",
    "# 1.Multi-cloud platforms allow organizations to leverage the strengths and features of different cloud service providers\n",
    "# 2.Deploying models across multiple clouds provides redundancy and high availability.\n",
    "# 3.Different cloud service providers may have varying infrastructure capabilities and geographical coverage."
   ]
  },
  {
   "cell_type": "code",
   "execution_count": null,
   "id": "bbf33fb5-7649-455f-b2d8-9ea7f15046fd",
   "metadata": {},
   "outputs": [],
   "source": [
    "# ANS 9:\n",
    "# Benefits :\n",
    "# 1.Real-world Application: Model deployment allows the model to be used in real-world scenarios to provide predictions \n",
    "#   or automate decision-making.\n",
    "# 2.Accessibility and Scalability: Deploying a model makes it accessible to a wider audience, including end-users or other software systems.\n",
    "\n",
    "# challenges\n",
    "# 1.Complexity and Interoperability: Deploying models in a multi-cloud environment introduces complexities in managing and \n",
    "#   integrating different cloud platforms.\n",
    "# 2.Data Movement and Latency: Moving data across multiple clouds can introduce latency and performance challenges\n",
    "# 3.Security and Compliance: Ensuring data security and compliance across multiple clouds can be challenging. "
   ]
  }
 ],
 "metadata": {
  "kernelspec": {
   "display_name": "Python 3 (ipykernel)",
   "language": "python",
   "name": "python3"
  },
  "language_info": {
   "codemirror_mode": {
    "name": "ipython",
    "version": 3
   },
   "file_extension": ".py",
   "mimetype": "text/x-python",
   "name": "python",
   "nbconvert_exporter": "python",
   "pygments_lexer": "ipython3",
   "version": "3.10.8"
  }
 },
 "nbformat": 4,
 "nbformat_minor": 5
}
